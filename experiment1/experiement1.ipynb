{
 "cells": [
  {
   "cell_type": "code",
   "execution_count": 9,
   "id": "27715450",
   "metadata": {},
   "outputs": [],
   "source": [
    "import numpy as np\n",
    "import matplotlib.pyplot as plt\n",
    "\n",
    "from models import LSTM_Model\n",
    "from train import Train\n",
    "\n",
    "from utils import fisher_distance\n",
    "from data_utils import create_loaders, simulate_data, train_and_get_distance"
   ]
  },
  {
   "cell_type": "code",
   "execution_count": 2,
   "id": "c06c4446",
   "metadata": {},
   "outputs": [],
   "source": [
    "train_window = 36\n",
    "horizon = 12\n",
    "\n",
    "input_dimension = 1\n",
    "hidden_dimension = 40\n",
    "batch_size = 256\n",
    "\n",
    "device = 'cpu'\n",
    "\n",
    "number_of_dataset = 10\n",
    "merged_data = simulate_data(dataset_number = number_of_dataset, weekend_gain = 1.2, number_of_weeks = 1)"
   ]
  },
  {
   "cell_type": "code",
   "execution_count": 3,
   "id": "9f7c0dfc",
   "metadata": {},
   "outputs": [
    {
     "name": "stdout",
     "output_type": "stream",
     "text": [
      "-----starting training-----\n",
      "epoch 10 train loss 0.57924 ------ validation loss 0.56252\n",
      "epoch 20 train loss 0.42500 ------ validation loss 0.40652\n",
      "epoch 30 train loss 0.14755 ------ validation loss 0.11653\n",
      "epoch 40 train loss 0.07763 ------ validation loss 0.09538\n",
      "epoch 50 train loss 0.04595 ------ validation loss 0.06001\n",
      "-----starting training-----\n",
      "epoch 10 train loss 0.94329 ------ validation loss 1.15459\n",
      "epoch 20 train loss 0.76227 ------ validation loss 0.82439\n",
      "epoch 30 train loss 0.63796 ------ validation loss 0.73675\n",
      "epoch 40 train loss 0.47350 ------ validation loss 0.41147\n",
      "epoch 50 train loss 0.25755 ------ validation loss 0.21332\n"
     ]
    }
   ],
   "source": [
    "distance_list_first_dataset = train_and_get_distance(merged_data, 0, train_window, horizon, batch_size, input_dimension, hidden_dimension, num_epochs=50, verbose=True, verbose_every=10)\n",
    "distance_list_sixth_dataset = train_and_get_distance(merged_data, 5, train_window, horizon, batch_size, input_dimension, hidden_dimension, num_epochs=50, verbose=True, verbose_every=10)"
   ]
  },
  {
   "cell_type": "code",
   "execution_count": 8,
   "id": "79da9225",
   "metadata": {},
   "outputs": [
    {
     "data": {
      "image/png": "[encoded data removed]",
      "text/plain": [
       "<Figure size 1152x288 with 2 Axes>"
      ]
     },
     "metadata": {
      "needs_background": "light"
     },
     "output_type": "display_data"
    }
   ],
   "source": [
    "fig, axes = plt.subplots(1, 2,  figsize=(16, 4))\n",
    "\n",
    "axes[0].bar(range(1, number_of_dataset+1), distance_list_first_dataset)\n",
    "axes[0].set_xlabel('Dataset Number')\n",
    "axes[0].set_ylabel('Task Affinity Score')\n",
    "axes[0].set_title('Fig a: model trained on dataset 1')\n",
    "axes[0].set_xticks(range(1, number_of_dataset+1))\n",
    "\n",
    "\n",
    "axes[1].bar(range(1, number_of_dataset+1), distance_list_sixth_dataset)\n",
    "axes[1].set_xlabel('Dataset Number')\n",
    "axes[1].set_ylabel('Task Affinity Score')\n",
    "axes[1].set_title('Fig b: model trained on dataset 5')\n",
    "axes[1].set_xticks(range(1, number_of_dataset+1))\n",
    "\n",
    "plt.show()"
   ]
  },
  {
   "cell_type": "code",
   "execution_count": null,
   "id": "95b0a363",
   "metadata": {},
   "outputs": [],
   "source": []
  }
 ],
 "metadata": {
  "kernelspec": {
   "display_name": "Python 3 (ipykernel)",
   "language": "python",
   "name": "python3"
  },
  "language_info": {
   "codemirror_mode": {
    "name": "ipython",
    "version": 3
   },
   "file_extension": ".py",
   "mimetype": "text/x-python",
   "name": "python",
   "nbconvert_exporter": "python",
   "pygments_lexer": "ipython3",
   "version": "3.9.13"
  },
  "vscode": {
   "interpreter": {
    "hash": "3eae6e1753bb2dc43fc7c13033f77e664610c0f836a9c70cd46f027547796076"
   }
  }
 },
 "nbformat": 4,
 "nbformat_minor": 5
}
