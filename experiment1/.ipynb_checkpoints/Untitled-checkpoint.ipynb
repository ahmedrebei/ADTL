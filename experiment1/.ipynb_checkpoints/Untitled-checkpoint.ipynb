{
 "cells": [
  {
   "cell_type": "code",
   "execution_count": null,
   "id": "27715450",
   "metadata": {},
   "outputs": [],
   "source": [
    "import numpy as np\n",
    "import matplotlib.pyplot as plt\n",
    "\n",
    "import torch\n",
    "import torch.nn as nn\n",
    "from torch.utils.data import DataLoader, Dataset\n",
    "\n",
    "from torch.optim import Adam\n",
    "from copy import deepcopy\n",
    "from torch.autograd import Variable\n",
    "import os\n",
    "\n",
    "from utils import *\n",
    "\n",
    "dataset_number = 20\n",
    "\n",
    "number_of_samples_per_day = 48\n",
    "number_of_samples_per_week = 48 * 7\n",
    "week_length = number_of_samples_per_day * 7\n",
    "weekend_period_length = number_of_samples_per_day * 2\n",
    "\n",
    "weekend_gain = 1.7\n",
    "weekend_gain_list = [1]*(336-weekend_period_length)+[weekend_gain]*weekend_period_length\n",
    "week_simulation = (1+np.sin(np.linspace(-np.pi/2, 14*np.pi-np.pi/2, week_length)))*weekend_gain_list\n",
    "\n",
    "number_of_weeks = 7\n",
    "nbr_of_days = 7 * number_of_weeks\n",
    "timeseries_simulation = np.tile(week_simulation, number_of_weeks)\n",
    "\n",
    "trend = [np.linspace(0, i, num=number_of_samples_per_day*nbr_of_days) for i in np.linspace(0, 1, dataset_number)]\n",
    "noise = [np.random.normal(scale=scale, size=number_of_samples_per_day*nbr_of_days) for scale in np.linspace(0.1, 1, dataset_number)]\n",
    "merged_data = timeseries_simulation + trend + noise\n",
    "\n",
    "####\n",
    "train_window = 36\n",
    "horizon = 12\n",
    "\n",
    "input_dimension = 1\n",
    "hidden_dimension = 40\n",
    "batch_size = 256\n",
    "\n",
    "device = 'cpu'\n",
    "######\n",
    "\n",
    "\n",
    "train_loader, validation_loader = create_loaders(merged_data[0])\n",
    "model_0 = LSTM_Model(input_dimension, hidden_dimension, horizon)\n",
    "train_object_0 = Train(model_0, train_loader, validation_loader)\n",
    "train_object_0.train()\n"
   ]
  }
 ],
 "metadata": {
  "kernelspec": {
   "display_name": "Python 3 (ipykernel)",
   "language": "python",
   "name": "python3"
  },
  "language_info": {
   "codemirror_mode": {
    "name": "ipython",
    "version": 3
   },
   "file_extension": ".py",
   "mimetype": "text/x-python",
   "name": "python",
   "nbconvert_exporter": "python",
   "pygments_lexer": "ipython3",
   "version": "3.9.13"
  }
 },
 "nbformat": 4,
 "nbformat_minor": 5
}
