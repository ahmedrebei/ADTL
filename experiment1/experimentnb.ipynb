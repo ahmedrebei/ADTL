{
 "cells": [
  {
   "cell_type": "code",
   "execution_count": 1,
   "id": "27715450",
   "metadata": {},
   "outputs": [
    {
     "name": "stderr",
     "output_type": "stream",
     "text": [
      "/home/ahmed/.conda/envs/pytorch_gpu/lib/python3.9/site-packages/tqdm/auto.py:22: TqdmWarning: IProgress not found. Please update jupyter and ipywidgets. See https://ipywidgets.readthedocs.io/en/stable/user_install.html\n",
      "  from .autonotebook import tqdm as notebook_tqdm\n"
     ]
    }
   ],
   "source": [
    "import numpy as np\n",
    "import matplotlib.pyplot as plt\n",
    "\n",
    "from models import LSTM_Model\n",
    "from train import Train\n",
    "\n",
    "from utils import fisher_distance\n",
    "from data_utils import create_loaders, simulate_data\n",
    "\n",
    "\n",
    "\n",
    "train_window = 36\n",
    "horizon = 12\n",
    "\n",
    "input_dimension = 1\n",
    "hidden_dimension = 40\n",
    "batch_size = 256\n",
    "\n",
    "device = 'cpu'\n",
    "\n",
    "number_of_dataset = 10\n",
    "merged_data = simulate_data(dataset_number = number_of_dataset, weekend_gain = 1.2, number_of_weeks = 1)"
   ]
  },
  {
   "cell_type": "code",
   "execution_count": 4,
   "id": "153d190f",
   "metadata": {},
   "outputs": [
    {
     "name": "stdout",
     "output_type": "stream",
     "text": [
      "-----starting training-----\n",
      "epoch 01 train loss 1.70832 ------ validation loss 1.62992\n",
      "epoch 02 train loss 1.59582 ------ validation loss 1.24646\n",
      "epoch 03 train loss 1.46982 ------ validation loss 1.23714\n",
      "epoch 04 train loss 1.29679 ------ validation loss 1.09745\n",
      "epoch 05 train loss 1.00126 ------ validation loss 0.87961\n",
      "epoch 06 train loss 0.81993 ------ validation loss 0.77137\n",
      "epoch 07 train loss 0.80016 ------ validation loss 0.62986\n",
      "epoch 08 train loss 0.67646 ------ validation loss 0.69955\n",
      "epoch 09 train loss 0.62006 ------ validation loss 0.61589\n",
      "epoch 10 train loss 0.60407 ------ validation loss 0.62131\n",
      "epoch 11 train loss 0.59349 ------ validation loss 0.61940\n",
      "epoch 12 train loss 0.57904 ------ validation loss 0.55049\n",
      "epoch 13 train loss 0.61166 ------ validation loss 0.54944\n",
      "epoch 14 train loss 0.57489 ------ validation loss 0.51984\n",
      "epoch 15 train loss 0.55974 ------ validation loss 0.56630\n",
      "epoch 16 train loss 0.54707 ------ validation loss 0.50906\n",
      "epoch 17 train loss 0.50644 ------ validation loss 0.43398\n",
      "epoch 18 train loss 0.48354 ------ validation loss 0.43247\n",
      "epoch 19 train loss 0.45957 ------ validation loss 0.41901\n",
      "epoch 20 train loss 0.43469 ------ validation loss 0.44824\n",
      "epoch 21 train loss 0.40709 ------ validation loss 0.37287\n",
      "epoch 22 train loss 0.38802 ------ validation loss 0.45102\n",
      "epoch 23 train loss 0.38406 ------ validation loss 0.36362\n",
      "epoch 24 train loss 0.36672 ------ validation loss 0.34695\n",
      "epoch 25 train loss 0.33985 ------ validation loss 0.32708\n",
      "epoch 26 train loss 0.31112 ------ validation loss 0.29303\n",
      "epoch 27 train loss 0.28477 ------ validation loss 0.30914\n",
      "epoch 28 train loss 0.27542 ------ validation loss 0.24362\n",
      "epoch 29 train loss 0.23956 ------ validation loss 0.19473\n",
      "epoch 30 train loss 0.20562 ------ validation loss 0.16756\n",
      "epoch 31 train loss 0.17344 ------ validation loss 0.18495\n",
      "epoch 32 train loss 0.15289 ------ validation loss 0.17760\n",
      "epoch 33 train loss 0.17144 ------ validation loss 0.13586\n",
      "epoch 34 train loss 0.15578 ------ validation loss 0.13138\n",
      "epoch 35 train loss 0.13538 ------ validation loss 0.10569\n",
      "epoch 36 train loss 0.12137 ------ validation loss 0.09925\n",
      "epoch 37 train loss 0.09278 ------ validation loss 0.08517\n",
      "epoch 38 train loss 0.09664 ------ validation loss 0.08976\n",
      "epoch 39 train loss 0.08581 ------ validation loss 0.09855\n",
      "epoch 40 train loss 0.08931 ------ validation loss 0.07919\n",
      "epoch 41 train loss 0.07973 ------ validation loss 0.05335\n",
      "epoch 42 train loss 0.06929 ------ validation loss 0.08563\n",
      "epoch 43 train loss 0.07705 ------ validation loss 0.08693\n",
      "epoch 44 train loss 0.06559 ------ validation loss 0.06032\n",
      "epoch 45 train loss 0.06113 ------ validation loss 0.07311\n",
      "epoch 46 train loss 0.06483 ------ validation loss 0.08389\n",
      "epoch 47 train loss 0.07268 ------ validation loss 0.07282\n",
      "epoch 48 train loss 0.07166 ------ validation loss 0.05852\n",
      "epoch 49 train loss 0.06594 ------ validation loss 0.07463\n",
      "epoch 50 train loss 0.07341 ------ validation loss 0.04072\n",
      "computing distance 0\n",
      "computing distance 1\n",
      "computing distance 2\n",
      "computing distance 3\n",
      "computing distance 4\n",
      "computing distance 5\n",
      "computing distance 6\n",
      "computing distance 7\n",
      "computing distance 8\n",
      "computing distance 9\n",
      "-----starting training-----\n",
      "epoch 01 train loss 2.85612 ------ validation loss 2.51598\n",
      "epoch 02 train loss 2.64452 ------ validation loss 2.56370\n",
      "epoch 03 train loss 2.44031 ------ validation loss 2.34609\n",
      "epoch 04 train loss 2.12148 ------ validation loss 1.48411\n",
      "epoch 05 train loss 1.63876 ------ validation loss 1.03406\n",
      "epoch 06 train loss 1.16067 ------ validation loss 1.10551\n",
      "epoch 07 train loss 1.03117 ------ validation loss 0.96195\n",
      "epoch 08 train loss 1.02367 ------ validation loss 0.89307\n",
      "epoch 09 train loss 1.04645 ------ validation loss 0.82720\n",
      "epoch 10 train loss 0.91917 ------ validation loss 0.80987\n",
      "epoch 11 train loss 0.86935 ------ validation loss 0.88644\n",
      "epoch 12 train loss 0.86636 ------ validation loss 0.70937\n",
      "epoch 13 train loss 0.83781 ------ validation loss 0.81051\n",
      "epoch 14 train loss 0.82664 ------ validation loss 0.81988\n",
      "epoch 15 train loss 0.86025 ------ validation loss 0.84607\n",
      "epoch 16 train loss 0.85110 ------ validation loss 0.89774\n",
      "epoch 17 train loss 0.80315 ------ validation loss 0.87276\n",
      "epoch 18 train loss 0.77814 ------ validation loss 0.77541\n",
      "epoch 19 train loss 0.71032 ------ validation loss 0.71731\n",
      "epoch 20 train loss 0.77021 ------ validation loss 0.86061\n",
      "epoch 21 train loss 0.77942 ------ validation loss 0.72590\n",
      "epoch 22 train loss 0.66816 ------ validation loss 0.66656\n",
      "epoch 23 train loss 0.73282 ------ validation loss 0.68413\n",
      "epoch 24 train loss 0.71726 ------ validation loss 0.61786\n",
      "epoch 25 train loss 0.65717 ------ validation loss 0.48741\n",
      "epoch 26 train loss 0.65131 ------ validation loss 0.64661\n",
      "epoch 27 train loss 0.65018 ------ validation loss 0.63476\n",
      "epoch 28 train loss 0.61519 ------ validation loss 0.55866\n",
      "epoch 29 train loss 0.63594 ------ validation loss 0.62769\n",
      "epoch 30 train loss 0.56002 ------ validation loss 0.46920\n",
      "epoch 31 train loss 0.57596 ------ validation loss 0.62154\n",
      "epoch 32 train loss 0.57862 ------ validation loss 0.50030\n",
      "epoch 33 train loss 0.56789 ------ validation loss 0.59884\n",
      "epoch 34 train loss 0.53922 ------ validation loss 0.62418\n",
      "epoch 35 train loss 0.56470 ------ validation loss 0.45279\n",
      "epoch 36 train loss 0.50361 ------ validation loss 0.50171\n",
      "epoch 37 train loss 0.55854 ------ validation loss 0.48638\n",
      "epoch 38 train loss 0.44838 ------ validation loss 0.51862\n",
      "epoch 39 train loss 0.50121 ------ validation loss 0.47666\n",
      "epoch 40 train loss 0.45536 ------ validation loss 0.47364\n",
      "epoch 41 train loss 0.46736 ------ validation loss 0.46253\n",
      "epoch 42 train loss 0.47621 ------ validation loss 0.50609\n",
      "epoch 43 train loss 0.47092 ------ validation loss 0.37629\n",
      "epoch 44 train loss 0.44997 ------ validation loss 0.40324\n",
      "epoch 45 train loss 0.43726 ------ validation loss 0.41919\n",
      "epoch 46 train loss 0.42748 ------ validation loss 0.45079\n",
      "epoch 47 train loss 0.38566 ------ validation loss 0.42815\n",
      "epoch 48 train loss 0.40946 ------ validation loss 0.39652\n",
      "epoch 49 train loss 0.39521 ------ validation loss 0.35065\n",
      "epoch 50 train loss 0.38054 ------ validation loss 0.35489\n",
      "computing distance 0\n",
      "computing distance 1\n",
      "computing distance 2\n",
      "computing distance 3\n",
      "computing distance 4\n",
      "computing distance 5\n",
      "computing distance 6\n",
      "computing distance 7\n",
      "computing distance 8\n",
      "computing distance 9\n"
     ]
    }
   ],
   "source": [
    "train_loader, validation_loader = create_loaders(\n",
    "    merged_data[0], train_window, horizon, batch_size)\n",
    "model_0 = LSTM_Model(input_dimension, hidden_dimension, horizon)\n",
    "train_object_0 = Train(model_0, train_loader, validation_loader)\n",
    "train_object_0.train(num_epochs=50, verbose=True, verbose_every=1)\n",
    "\n",
    "distances_list_0 = []\n",
    "for i in range(0, len(merged_data)):\n",
    "    print(f'computing distance {i}')\n",
    "    t_loader, v_loader = create_loaders(merged_data[i], train_window, horizon, batch_size)\n",
    "    distances_list_0.append(fisher_distance(train_object_0.model, validation_loader, v_loader, batch_size, batch_size))"
   ]
  },
  {
   "cell_type": "code",
   "execution_count": null,
   "id": "7688b1b1",
   "metadata": {},
   "outputs": [],
   "source": [
    "train_loader, validation_loader = create_loaders(\n",
    "    merged_data[5], train_window, horizon, batch_size)\n",
    "model_5 = LSTM_Model(input_dimension, hidden_dimension, horizon)\n",
    "train_object_5 = Train(model_5, train_loader, validation_loader)\n",
    "train_object_5.train(num_epochs=50, verbose=True, verbose_every=1)\n",
    "\n",
    "distances_list_5 = []\n",
    "for i in range(0, len(merged_data)):\n",
    "    print(f'computing distance {i}')\n",
    "    t_loader, v_loader = create_loaders(merged_data[i], train_window, horizon, batch_size)\n",
    "    distances_list_5.append(fisher_distance(train_object_5.model, train_loader, t_loader, batch_size, batch_size))"
   ]
  },
  {
   "cell_type": "code",
   "execution_count": 5,
   "id": "79da9225",
   "metadata": {},
   "outputs": [
    {
     "data": {
      "image/png": "[encoded data removed]",
      "text/plain": [
       "<Figure size 1152x288 with 2 Axes>"
      ]
     },
     "metadata": {
      "needs_background": "light"
     },
     "output_type": "display_data"
    }
   ],
   "source": [
    "fig, axes = plt.subplots(1, 2,  figsize=(16, 4))\n",
    "\n",
    "axes[0].bar(range(number_of_dataset), distances_list_0)\n",
    "axes[0].set_xlabel('Dataset Number')\n",
    "axes[0].set_ylabel('Task Affinity Score')\n",
    "axes[0].set_title('Fig a: model trained on dataset 1')\n",
    "\n",
    "axes[1].bar(range(number_of_dataset), distances_list_5)\n",
    "axes[1].set_xlabel('Dataset Number')\n",
    "axes[1].set_ylabel('Task Affinity Score')\n",
    "axes[1].set_title('Fig b: model trained on dataset 5')\n",
    "\n",
    "plt.show()"
   ]
  }
 ],
 "metadata": {
  "kernelspec": {
   "display_name": "pytorch_gpu",
   "language": "python",
   "name": "python3"
  },
  "language_info": {
   "codemirror_mode": {
    "name": "ipython",
    "version": 3
   },
   "file_extension": ".py",
   "mimetype": "text/x-python",
   "name": "python",
   "nbconvert_exporter": "python",
   "pygments_lexer": "ipython3",
   "version": "3.9.13"
  },
  "vscode": {
   "interpreter": {
    "hash": "3eae6e1753bb2dc43fc7c13033f77e664610c0f836a9c70cd46f027547796076"
   }
  }
 },
 "nbformat": 4,
 "nbformat_minor": 5
}
