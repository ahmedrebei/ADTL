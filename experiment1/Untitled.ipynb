{
 "cells": [
  {
   "cell_type": "code",
   "execution_count": 3,
   "id": "27715450",
   "metadata": {},
   "outputs": [
    {
     "name": "stdout",
     "output_type": "stream",
     "text": [
      "-----starting training-----\n",
      "epoch 01 train loss 1.63356 ------ validation loss 1.70039\n",
      "epoch 02 train loss 1.50734 ------ validation loss 1.39342\n",
      "epoch 03 train loss 1.36751 ------ validation loss 1.22224\n",
      "epoch 04 train loss 1.16824 ------ validation loss 0.73532\n",
      "epoch 05 train loss 0.91388 ------ validation loss 0.90484\n",
      "computing distance 0\n",
      "computing distance 1\n",
      "computing distance 2\n",
      "computing distance 3\n",
      "computing distance 4\n",
      "computing distance 5\n",
      "computing distance 6\n",
      "computing distance 7\n",
      "computing distance 8\n",
      "computing distance 9\n",
      "-----starting training-----\n",
      "epoch 01 train loss 4.57681 ------ validation loss 4.51369\n",
      "epoch 02 train loss 4.23510 ------ validation loss 4.26776\n",
      "epoch 03 train loss 3.85036 ------ validation loss 3.23066\n",
      "epoch 04 train loss 3.27393 ------ validation loss 2.73616\n",
      "epoch 05 train loss 2.41347 ------ validation loss 1.20177\n",
      "computing distance 0\n",
      "computing distance 1\n",
      "computing distance 2\n",
      "computing distance 3\n",
      "computing distance 4\n",
      "computing distance 5\n",
      "computing distance 6\n",
      "computing distance 7\n",
      "computing distance 8\n",
      "computing distance 9\n"
     ]
    }
   ],
   "source": [
    "import numpy as np\n",
    "import matplotlib.pyplot as plt\n",
    "\n",
    "import torch\n",
    "import torch.nn as nn\n",
    "from torch.utils.data import DataLoader, Dataset\n",
    "\n",
    "from torch.optim import Adam\n",
    "from copy import deepcopy\n",
    "from torch.autograd import Variable\n",
    "import os\n",
    "\n",
    "from utils import *\n",
    "from train import *\n",
    "from models import *\n",
    "\n",
    "\n",
    "####\n",
    "dataset_number = 10\n",
    "\n",
    "number_of_samples_per_day = 48\n",
    "number_of_samples_per_week = 48 * 7\n",
    "week_length = number_of_samples_per_day * 7\n",
    "weekend_period_length = number_of_samples_per_day * 2\n",
    "\n",
    "weekend_gain = 1.2\n",
    "weekend_gain_list = [1]*(number_of_samples_per_week -\n",
    "                         weekend_period_length)+[weekend_gain]*weekend_period_length\n",
    "week_simulation = (1+np.sin(np.linspace(-np.pi/2, 14*np.pi -\n",
    "                   np.pi/2, week_length)))*weekend_gain_list\n",
    "\n",
    "number_of_weeks = 1\n",
    "\n",
    "\n",
    "\n",
    "nbr_of_days = 7 * number_of_weeks\n",
    "timeseries_simulation = np.tile(week_simulation, number_of_weeks)\n",
    "\n",
    "trend = [np.linspace(0, i, num=number_of_samples_per_day*nbr_of_days)\n",
    "         for i in np.linspace(0, 2, dataset_number)]\n",
    "noise = [np.random.normal(scale=scale, size=number_of_samples_per_day*nbr_of_days)\n",
    "         for scale in np.linspace(0.01, 0.1, dataset_number)]\n",
    "merged_data = timeseries_simulation + trend + noise\n",
    "#####\n",
    "\n",
    "train_window = 36\n",
    "horizon = 12\n",
    "\n",
    "input_dimension = 1\n",
    "hidden_dimension = 40\n",
    "batch_size = 256\n",
    "\n",
    "# device = torch.device(\"cuda:0\" if torch.cuda.is_available() else \"cpu\")\n",
    "device = 'cpu'\n",
    "#####\n",
    "\n",
    "\n",
    "train_loader, validation_loader = create_loaders(\n",
    "    merged_data[0], train_window, horizon, batch_size)\n",
    "model_0 = LSTM_Model(input_dimension, hidden_dimension, horizon)\n",
    "train_object_0 = Train(model_0, train_loader, validation_loader)\n",
    "train_object_0.train(num_epochs=5, verbose=True, verbose_every=1)\n",
    "\n",
    "distances_list_0 = []\n",
    "for i in range(0, len(merged_data)):\n",
    "    print(f'computing distance {i}')\n",
    "    t_loader, v_loader = create_loaders(merged_data[i], train_window, horizon, batch_size)\n",
    "    distances_list_0.append(compute_distance(train_object_0.model, validation_loader, v_loader, batch_size, batch_size))\n",
    "\n",
    "#######\n",
    "\n",
    "train_loader, validation_loader = create_loaders(\n",
    "    merged_data[5], train_window, horizon, batch_size)\n",
    "model_5 = LSTM_Model(input_dimension, hidden_dimension, horizon)\n",
    "train_object_5 = Train(model_5, train_loader, validation_loader)\n",
    "train_object_5.train(num_epochs=5, verbose=True, verbose_every=1)\n",
    "\n",
    "distances_list_5 = []\n",
    "for i in range(0, len(merged_data)):\n",
    "    print(f'computing distance {i}')\n",
    "    t_loader, v_loader = create_loaders(merged_data[i], train_window, horizon, batch_size)\n",
    "    distances_list_5.append(compute_distance(train_object_5.model, train_loader, t_loader, batch_size, batch_size))"
   ]
  },
  {
   "cell_type": "code",
   "execution_count": 5,
   "id": "042c0ac0",
   "metadata": {},
   "outputs": [
    {
     "name": "stdout",
     "output_type": "stream",
     "text": [
      "-----starting training-----\n",
      "epoch 01 train loss 3.14851 ------ validation loss 3.35943\n",
      "epoch 02 train loss 2.93245 ------ validation loss 3.11729\n",
      "epoch 03 train loss 2.72833 ------ validation loss 2.03701\n",
      "epoch 04 train loss 2.43085 ------ validation loss 1.96060\n",
      "epoch 05 train loss 1.94686 ------ validation loss 1.29994\n",
      "computing distance 0\n",
      "computing distance 1\n",
      "computing distance 2\n",
      "computing distance 3\n",
      "computing distance 4\n",
      "computing distance 5\n",
      "computing distance 6\n",
      "computing distance 7\n",
      "computing distance 8\n",
      "computing distance 9\n"
     ]
    }
   ],
   "source": [
    "train_loader, validation_loader = create_loaders(\n",
    "    merged_data[5], train_window, horizon, batch_size)\n",
    "model_5 = LSTM_Model(input_dimension, hidden_dimension, horizon)\n",
    "train_object_5 = Train(model_5, train_loader, validation_loader)\n",
    "train_object_5.train(num_epochs=5, verbose=True, verbose_every=1)\n",
    "\n",
    "distances_list_5 = []\n",
    "for i in range(0, len(merged_data)):\n",
    "    print(f'computing distance {i}')\n",
    "    t_loader, v_loader = create_loaders(merged_data[i], train_window, horizon, batch_size)\n",
    "    distances_list_5.append(compute_distance(train_object_5.model, train_loader, t_loader, batch_size, batch_size))"
   ]
  },
  {
   "cell_type": "code",
   "execution_count": 6,
   "id": "bfddff1a",
   "metadata": {},
   "outputs": [
    {
     "data": {
      "image/png": "[encoded data removed]",
      "text/plain": [
       "<Figure size 1152x288 with 2 Axes>"
      ]
     },
     "metadata": {
      "needs_background": "light"
     },
     "output_type": "display_data"
    }
   ],
   "source": [
    "fig, axes = plt.subplots(1, 2,  figsize=(16, 4))\n",
    "\n",
    "axes[0].bar(range(dataset_number), distances_list_0)\n",
    "axes[0].set_xlabel('Dataset Number')\n",
    "axes[0].set_ylabel('Task Affinity Score')\n",
    "axes[0].set_title('Fig a: model trained on dataset 1')\n",
    "\n",
    "axes[1].bar(range(dataset_number), distances_list_5)\n",
    "axes[1].set_xlabel('Dataset Number')\n",
    "axes[1].set_ylabel('Task Affinity Score')\n",
    "axes[1].set_title('Fig b: model trained on dataset 5')\n",
    "\n",
    "plt.savefig('figure.png')\n",
    "plt.show()"
   ]
  },
  {
   "cell_type": "code",
   "execution_count": null,
   "id": "e3ca3e98",
   "metadata": {},
   "outputs": [],
   "source": []
  }
 ],
 "metadata": {
  "kernelspec": {
   "display_name": "Python 3 (ipykernel)",
   "language": "python",
   "name": "python3"
  },
  "language_info": {
   "codemirror_mode": {
    "name": "ipython",
    "version": 3
   },
   "file_extension": ".py",
   "mimetype": "text/x-python",
   "name": "python",
   "nbconvert_exporter": "python",
   "pygments_lexer": "ipython3",
   "version": "3.9.13"
  }
 },
 "nbformat": 4,
 "nbformat_minor": 5
}
