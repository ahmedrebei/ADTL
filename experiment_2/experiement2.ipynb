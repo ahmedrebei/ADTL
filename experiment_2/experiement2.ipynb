{
 "cells": [
  {
   "cell_type": "code",
   "execution_count": 1,
   "id": "6cc2d91d",
   "metadata": {},
   "outputs": [
    {
     "name": "stderr",
     "output_type": "stream",
     "text": [
      "/home/ahmed/.conda/envs/pytorch_gpu/lib/python3.9/site-packages/tqdm/auto.py:22: TqdmWarning: IProgress not found. Please update jupyter and ipywidgets. See https://ipywidgets.readthedocs.io/en/stable/user_install.html\n",
      "  from .autonotebook import tqdm as notebook_tqdm\n",
      "<frozen importlib._bootstrap>:228: RuntimeWarning: scipy._lib.messagestream.MessageStream size changed, may indicate binary incompatibility. Expected 56 from C header, got 64 from PyObject\n"
     ]
    }
   ],
   "source": [
    "from utils import create_loaders, compute_distance, MAPE\n",
    "from australian_data_utils import get_australian_data, create_model_loader_train_objects\n",
    "\n",
    "import torch\n",
    "import torch.nn as nn\n",
    "\n",
    "import matplotlib.pyplot as plt\n",
    "\n",
    "import copy"
   ]
  },
  {
   "cell_type": "code",
   "execution_count": 2,
   "id": "c32c241c",
   "metadata": {},
   "outputs": [],
   "source": [
    "train_window = 36\n",
    "horizon = 12\n",
    "\n",
    "input_dimension = 1\n",
    "hidden_dimension = 40\n",
    "batch_size = 256\n",
    "\n",
    "support_train_loader_dictionary = {}\n",
    "support_validation_loader_dictionary = {}\n",
    "support_train_object_dictionary = {}\n",
    "\n",
    "query_train_loader_dictionary = {}\n",
    "query_validation_loader_dictionary = {}\n",
    "query_train_object_dictionary = {}\n"
   ]
  },
  {
   "cell_type": "code",
   "execution_count": 3,
   "id": "ae9607e4",
   "metadata": {},
   "outputs": [],
   "source": [
    "meta_support_austalian_data = [('NSW', '03'), ('NSW', '18'), ('QLD', '03'), ('QLD', '18'), ('SA', '03')]\n",
    "meta_query_austalian_data = [('SA', '18'), ('TAS', '07'), ('TAS', '18'), ('VIC', '04'), ('VIC', '18')]\n"
   ]
  },
  {
   "cell_type": "code",
   "execution_count": 4,
   "id": "0c5b0121",
   "metadata": {},
   "outputs": [
    {
     "name": "stdout",
     "output_type": "stream",
     "text": [
      "1- creating objects from NSW on year 03\n",
      "-----starting training-----\n",
      "epoch 10 train loss 0.00481 ------ validation loss 0.00472\n",
      "epoch 20 train loss 0.00474 ------ validation loss 0.00402\n",
      "epoch 30 train loss 0.00372 ------ validation loss 0.00379\n",
      "epoch 40 train loss 0.00313 ------ validation loss 0.00373\n",
      "epoch 50 train loss 0.00272 ------ validation loss 0.00327\n",
      "epoch 60 train loss 0.00325 ------ validation loss 0.00312\n",
      "epoch 70 train loss 0.00269 ------ validation loss 0.00310\n",
      "epoch 80 train loss 0.00346 ------ validation loss 0.00286\n",
      "epoch 90 train loss 0.00261 ------ validation loss 0.00283\n",
      "epoch 100 train loss 0.00318 ------ validation loss 0.00273\n",
      "epoch 110 train loss 0.00286 ------ validation loss 0.00276\n",
      "epoch 120 train loss 0.00265 ------ validation loss 0.00275\n",
      "epoch 120 train loss 0.00265 ------ validation loss 0.00275\n",
      "2- creating objects from NSW on year 18\n",
      "-----starting training-----\n",
      "epoch 10 train loss 0.00328 ------ validation loss 0.00412\n",
      "epoch 20 train loss 0.00254 ------ validation loss 0.00325\n",
      "epoch 30 train loss 0.00317 ------ validation loss 0.00286\n",
      "epoch 40 train loss 0.00279 ------ validation loss 0.00292\n",
      "epoch 50 train loss 0.00304 ------ validation loss 0.00335\n",
      "epoch 60 train loss 0.00247 ------ validation loss 0.00279\n",
      "epoch 70 train loss 0.00271 ------ validation loss 0.00273\n",
      "epoch 80 train loss 0.00373 ------ validation loss 0.00257\n",
      "epoch 90 train loss 0.00238 ------ validation loss 0.00285\n",
      "epoch 100 train loss 0.00253 ------ validation loss 0.00255\n",
      "epoch 110 train loss 0.00302 ------ validation loss 0.00306\n",
      "epoch 120 train loss 0.00262 ------ validation loss 0.00242\n",
      "epoch 120 train loss 0.00262 ------ validation loss 0.00242\n",
      "3- creating objects from QLD on year 03\n",
      "-----starting training-----\n",
      "epoch 10 train loss 0.00469 ------ validation loss 0.00630\n",
      "epoch 20 train loss 0.00496 ------ validation loss 0.00417\n",
      "epoch 30 train loss 0.00482 ------ validation loss 0.00407\n",
      "epoch 40 train loss 0.00469 ------ validation loss 0.00424\n",
      "epoch 50 train loss 0.00326 ------ validation loss 0.00405\n",
      "epoch 60 train loss 0.00352 ------ validation loss 0.00382\n",
      "epoch 70 train loss 0.00460 ------ validation loss 0.00375\n",
      "epoch 80 train loss 0.00367 ------ validation loss 0.00376\n",
      "epoch 90 train loss 0.00350 ------ validation loss 0.00334\n",
      "epoch 100 train loss 0.00339 ------ validation loss 0.00369\n",
      "epoch 110 train loss 0.00331 ------ validation loss 0.00368\n",
      "epoch 120 train loss 0.00385 ------ validation loss 0.00398\n",
      "epoch 120 train loss 0.00385 ------ validation loss 0.00398\n",
      "4- creating objects from QLD on year 18\n",
      "-----starting training-----\n",
      "epoch 10 train loss 0.00252 ------ validation loss 0.00232\n",
      "epoch 20 train loss 0.00212 ------ validation loss 0.00212\n",
      "epoch 30 train loss 0.00230 ------ validation loss 0.00205\n",
      "epoch 40 train loss 0.00211 ------ validation loss 0.00217\n",
      "epoch 50 train loss 0.00184 ------ validation loss 0.00195\n",
      "epoch 60 train loss 0.00224 ------ validation loss 0.00166\n",
      "epoch 70 train loss 0.00183 ------ validation loss 0.00166\n",
      "epoch 80 train loss 0.00170 ------ validation loss 0.00192\n",
      "epoch 90 train loss 0.00151 ------ validation loss 0.00177\n",
      "epoch 100 train loss 0.00165 ------ validation loss 0.00168\n",
      "epoch 110 train loss 0.00170 ------ validation loss 0.00186\n",
      "epoch 120 train loss 0.00202 ------ validation loss 0.00170\n",
      "epoch 120 train loss 0.00202 ------ validation loss 0.00170\n",
      "5- creating objects from SA on year 03\n",
      "-----starting training-----\n",
      "epoch 10 train loss 0.00297 ------ validation loss 0.00343\n",
      "epoch 20 train loss 0.00276 ------ validation loss 0.00288\n",
      "epoch 30 train loss 0.00242 ------ validation loss 0.00269\n",
      "epoch 40 train loss 0.00228 ------ validation loss 0.00290\n",
      "epoch 50 train loss 0.00357 ------ validation loss 0.00258\n",
      "epoch 60 train loss 0.00261 ------ validation loss 0.00289\n",
      "epoch 70 train loss 0.00275 ------ validation loss 0.00248\n",
      "epoch 80 train loss 0.00242 ------ validation loss 0.00222\n",
      "epoch 90 train loss 0.00189 ------ validation loss 0.00211\n",
      "epoch 100 train loss 0.00191 ------ validation loss 0.00204\n",
      "epoch 110 train loss 0.00258 ------ validation loss 0.00213\n",
      "epoch 120 train loss 0.00198 ------ validation loss 0.00222\n",
      "epoch 120 train loss 0.00198 ------ validation loss 0.00222\n"
     ]
    }
   ],
   "source": [
    "create_model_loader_train_objects(data=meta_support_austalian_data,\n",
    "                                  train_loader_dictionary=support_train_loader_dictionary, \n",
    "                                  validation_loader_dictionary=support_validation_loader_dictionary,\n",
    "                                  train_object_dictionary=support_train_object_dictionary,\n",
    "                                  train_window=train_window, hidden_dimension=hidden_dimension, horizon=horizon, batch_size=batch_size,\n",
    "                                  train_model=True, num_epochs=120)"
   ]
  },
  {
   "cell_type": "code",
   "execution_count": 5,
   "id": "4057c73d",
   "metadata": {},
   "outputs": [
    {
     "name": "stdout",
     "output_type": "stream",
     "text": [
      "1- creating objects from SA on year 18\n",
      "2- creating objects from TAS on year 07\n",
      "3- creating objects from TAS on year 18\n",
      "4- creating objects from VIC on year 04\n",
      "5- creating objects from VIC on year 18\n"
     ]
    }
   ],
   "source": [
    "create_model_loader_train_objects(data=meta_query_austalian_data,\n",
    "                                  train_loader_dictionary=query_train_loader_dictionary, \n",
    "                                  validation_loader_dictionary=query_validation_loader_dictionary,\n",
    "                                  train_object_dictionary=query_train_object_dictionary,\n",
    "                                  train_window=train_window, hidden_dimension=hidden_dimension, horizon=horizon, batch_size=batch_size,\n",
    "                                  train_model=False)"
   ]
  },
  {
   "cell_type": "code",
   "execution_count": 10,
   "id": "18fb7531",
   "metadata": {},
   "outputs": [
    {
     "name": "stdout",
     "output_type": "stream",
     "text": [
      "-----starting training-----\n",
      "-----starting training-----\n",
      "-----starting training-----\n",
      "-----starting training-----\n",
      "-----starting training-----\n"
     ]
    }
   ],
   "source": [
    "experiment_iteration_result = []\n",
    "iteration_number = 10\n",
    "for _ in range(iteration_number):\n",
    "    distance_list = []\n",
    "    for key, item in support_train_object_dictionary.items():\n",
    "        distance_list.append(compute_distance(item.model, item.train_loader, query_train_object_dictionary['train_objectSA18'].train_loader, batch_size, batch_size))\n",
    "        \n",
    "    test_object_dictionary = {}\n",
    "    for i, (k, v) in enumerate(support_train_object_dictionary.items()):\n",
    "        test_object_dictionary[f'obejct{i+1}'] = copy.deepcopy(query_train_object_dictionary['train_objectSA18'])\n",
    "        test_object_dictionary[f'obejct{i+1}'].model = v.model\n",
    "        test_object_dictionary[f'obejct{i+1}'].train(num_epochs=1)\n",
    "            \n",
    "    mape_list = []\n",
    "    mseloss_list = []\n",
    "    for i, (k, v) in enumerate(support_train_object_dictionary.items()):\n",
    "\n",
    "        inputs, target = next(enumerate(test_object_dictionary[f'obejct{i+1}'].train_loader, 0))[1]\n",
    "        inputs = inputs.type(torch.float32).to(test_object_dictionary[f'obejct{i+1}'].learning_parmeters['device'])\n",
    "        target = target.type(torch.float32).to(test_object_dictionary[f'obejct{i+1}'].learning_parmeters['device'])\n",
    "        outputs = test_object_dictionary[f'obejct{i+1}'].model(inputs)\n",
    "        with torch.no_grad():\n",
    "            mseloss_list.append(nn.MSELoss()(target, outputs).item())\n",
    "            mape_list.append(MAPE(target, outputs).mean().item())\n",
    "\n",
    "\n",
    "    experiment_iteration_result.append([distance_list, mape_list, mseloss_list])"
   ]
  },
  {
   "cell_type": "code",
   "execution_count": 11,
   "id": "fdd2daf3",
   "metadata": {},
   "outputs": [
    {
     "data": {
      "image/png": "[encoded data removed]",
      "text/plain": [
       "<Figure size 1512x288 with 3 Axes>"
      ]
     },
     "metadata": {
      "needs_background": "light"
     },
     "output_type": "display_data"
    }
   ],
   "source": [
    "fig, axes = plt.subplots(1, 3,  figsize=(21, 4))\n",
    "xlabel = [i+j for i, j in meta_support_austalian_data]\n",
    "axes[0].bar(xlabel, distance_list)\n",
    "axes[0].set_ylabel('Task Affinity Score')\n",
    "axes[0].set_title('Fig a: TAS between new Task and old Tasks')\n",
    "\n",
    "axes[1].bar(xlabel, mape_list)\n",
    "axes[1].set_ylabel('Task Affinity Score')\n",
    "axes[1].set_title('Fig b: MAPE of the transferd models on the new Dataset')\n",
    "\n",
    "axes[2].bar(xlabel, mseloss_list)\n",
    "axes[2].set_ylabel('Task Affinity Score')\n",
    "axes[2].set_title('Fig c: MSE loss of the transferd models on the new Dataset')\n",
    "\n",
    "\n",
    "plt.show()"
   ]
  },
  {
   "cell_type": "code",
   "execution_count": 14,
   "id": "6ea4e70a",
   "metadata": {},
   "outputs": [
    {
     "data": {
      "text/plain": [
       "PearsonRResult(statistic=0.8407945320950223, pvalue=0.07440767546229489)"
      ]
     },
     "execution_count": 14,
     "metadata": {},
     "output_type": "execute_result"
    }
   ],
   "source": [
    "from scipy.stats import pearsonr   \n",
    "pearsonr(mseloss_list, distance_list)\n"
   ]
  },
  {
   "cell_type": "code",
   "execution_count": 1,
   "id": "b63ec56a",
   "metadata": {},
   "outputs": [
    {
     "data": {
      "text/plain": [
       "5"
      ]
     },
     "execution_count": 1,
     "metadata": {},
     "output_type": "execute_result"
    }
   ],
   "source": []
  },
  {
   "cell_type": "code",
   "execution_count": null,
   "id": "6ea4265b",
   "metadata": {},
   "outputs": [],
   "source": []
  }
 ],
 "metadata": {
  "kernelspec": {
   "display_name": "pytorch_gpu",
   "language": "python",
   "name": "python3"
  },
  "language_info": {
   "codemirror_mode": {
    "name": "ipython",
    "version": 3
   },
   "file_extension": ".py",
   "mimetype": "text/x-python",
   "name": "python",
   "nbconvert_exporter": "python",
   "pygments_lexer": "ipython3",
   "version": "3.9.13"
  },
  "vscode": {
   "interpreter": {
    "hash": "3eae6e1753bb2dc43fc7c13033f77e664610c0f836a9c70cd46f027547796076"
   }
  }
 },
 "nbformat": 4,
 "nbformat_minor": 5
}
